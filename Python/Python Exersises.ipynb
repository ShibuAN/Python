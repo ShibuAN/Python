{
 "cells": [
  {
   "cell_type": "code",
   "execution_count": 5,
   "id": "79c0bf68-a99d-43ac-b9e0-b9e455d4a315",
   "metadata": {},
   "outputs": [
    {
     "name": "stdout",
     "output_type": "stream",
     "text": [
      "[5, 4, 3, 2, 1]\n"
     ]
    }
   ],
   "source": [
    "# 1. write a programme for the below ;\n",
    "# \tinput = [1,2,3,4,5]\n",
    "# \toutput = [5,4,3,2,1]\n",
    "\n",
    "inputs = [1,2,3,4,5]\n",
    "output = []\n",
    "\n",
    "for i in inputs:\n",
    "    output.insert(0,i)\n",
    "    \n",
    "print(output)"
   ]
  },
  {
   "cell_type": "code",
   "execution_count": 2,
   "id": "dddeb16e-8485-4ce3-9102-87f715d4df82",
   "metadata": {},
   "outputs": [
    {
     "name": "stdin",
     "output_type": "stream",
     "text": [
      "enter a number from 0 to 8:  1\n"
     ]
    },
    {
     "data": {
      "text/plain": [
       "'cnvendor'"
      ]
     },
     "execution_count": 2,
     "metadata": {},
     "output_type": "execute_result"
    }
   ],
   "source": [
    "# 2. create a function to remove n th element from the string \n",
    "# \ta = 'canvendor'\n",
    "\n",
    "def fun(a,n):\n",
    "    a1 = a[:n]\n",
    "    a2 = a[n+1:]\n",
    "    return a1+a2\n",
    "    \n",
    "a = \"canvendor\"\n",
    "n = int(input(\"enter a number from 0 to 8: \"))\n",
    "\n",
    "fun(a,n)"
   ]
  },
  {
   "cell_type": "code",
   "execution_count": 3,
   "id": "47ba17f3-95f4-4c6b-baeb-28b11217195e",
   "metadata": {},
   "outputs": [
    {
     "name": "stdout",
     "output_type": "stream",
     "text": [
      "1 X 2 = 2\n",
      "2 X 2 = 4\n",
      "3 X 2 = 6\n",
      "4 X 2 = 8\n",
      "5 X 2 = 10\n",
      "6 X 2 = 12\n",
      "7 X 2 = 14\n",
      "8 X 2 = 16\n",
      "9 X 2 = 18\n",
      "10 X 2 = 20\n"
     ]
    }
   ],
   "source": [
    "# 3.write a programme for 2 multipilcation table.\n",
    "\n",
    "for n in range(1,11):\n",
    "        print(n,\"X\",2,\"=\",n*2)"
   ]
  },
  {
   "cell_type": "code",
   "execution_count": 4,
   "id": "31ac7e35-99d0-45ff-98d4-44a87006566c",
   "metadata": {},
   "outputs": [
    {
     "name": "stdout",
     "output_type": "stream",
     "text": [
      "1 X 2 = 2\n",
      "2 X 2 = 4\n",
      "3 X 2 = 6\n",
      "4 X 2 = 8\n",
      "5 X 2 = 10\n",
      "6 X 2 = 12\n",
      "7 X 2 = 14\n",
      "8 X 2 = 16\n",
      "9 X 2 = 18\n",
      "10 X 2 = 20\n",
      "1 X 3 = 3\n",
      "2 X 3 = 6\n",
      "3 X 3 = 9\n",
      "4 X 3 = 12\n",
      "5 X 3 = 15\n",
      "6 X 3 = 18\n",
      "7 X 3 = 21\n",
      "8 X 3 = 24\n",
      "9 X 3 = 27\n",
      "10 X 3 = 30\n",
      "1 X 4 = 4\n",
      "2 X 4 = 8\n",
      "3 X 4 = 12\n",
      "4 X 4 = 16\n",
      "5 X 4 = 20\n",
      "6 X 4 = 24\n",
      "7 X 4 = 28\n",
      "8 X 4 = 32\n",
      "9 X 4 = 36\n",
      "10 X 4 = 40\n",
      "1 X 5 = 5\n",
      "2 X 5 = 10\n",
      "3 X 5 = 15\n",
      "4 X 5 = 20\n",
      "5 X 5 = 25\n",
      "6 X 5 = 30\n",
      "7 X 5 = 35\n",
      "8 X 5 = 40\n",
      "9 X 5 = 45\n",
      "10 X 5 = 50\n"
     ]
    }
   ],
   "source": [
    "#4.write a programme for 2,3,4,5 multiplication tables.\n",
    "number_list = [2, 3, 4, 5]\n",
    "\n",
    "for i in number_list:\n",
    "    for n in range(1,11):\n",
    "        print(n,\"X\",i,\"=\",n*i)"
   ]
  },
  {
   "cell_type": "code",
   "execution_count": 6,
   "id": "a612fdb3-f5a7-41b4-ac48-344439c20f51",
   "metadata": {},
   "outputs": [
    {
     "name": "stdin",
     "output_type": "stream",
     "text": [
      "enter a number 25\n"
     ]
    },
    {
     "name": "stdout",
     "output_type": "stream",
     "text": [
      "This is an Odd number\n"
     ]
    }
   ],
   "source": [
    "# 5.write a code for the below ;\n",
    "# \t1. write a function to find odd or even number.\n",
    "# \t2. write a code to print odd for odd number and even for even number , for n numbers.\n",
    "\n",
    "n = int(input(\"enter a number\"))\n",
    "if n % 2 == 0:\n",
    "    print(\"This is an Even number\")\n",
    "else:\n",
    "    print(\"This is an Odd number\")"
   ]
  },
  {
   "cell_type": "code",
   "execution_count": null,
   "id": "cdc743fd-1a81-4d71-bd33-0be6a972997f",
   "metadata": {},
   "outputs": [],
   "source": [
    "# 6.write a code for first 10 values of 2 multiplication table using while loop.\n",
    "\n",
    "start = 1\n",
    "table = 2\n",
    "end = 10\n",
    "while start <= end:\n",
    "    print(start,\"X\",table,\"=\",start*table)\n",
    "    start += 1\n",
    "    \n",
    "#another method\n",
    "\n",
    "start = 1\n",
    "while start <= 10:\n",
    "    print(start,\"X\",\"2\",\"=\",start*2)\n",
    "    start += 1"
   ]
  },
  {
   "cell_type": "code",
   "execution_count": null,
   "id": "52740be3-a1be-4890-a04d-fa7c1680c3e3",
   "metadata": {},
   "outputs": [],
   "source": [
    "# 7.Print the following pattern\n",
    "# \t1 \n",
    "# \t2 2 \n",
    "# \t3 3 3 \n",
    "# \t4 4 4 4 \n",
    "# \t5 5 5 5 5\n",
    "\n",
    "number = 5\n",
    "for a in range(1, number + 1):\n",
    "    for b in range(a):\n",
    "        print(a, end=\" \")\n",
    "    print(\"\")"
   ]
  },
  {
   "cell_type": "code",
   "execution_count": null,
   "id": "072bf8c1-b57c-45fc-8961-9c8b72d37bea",
   "metadata": {},
   "outputs": [],
   "source": [
    "# 8. Check Palindrome Number\n",
    "#    Write a program to check if the given number is a palindrome number.\n",
    "\n",
    "#    A palindrome number is a number that is the same after reverse. For example, 545, is the palindrome numbers\n",
    "\n",
    "def palindrome(n):\n",
    "    str_n = str(n)\n",
    "    rev_str_n = str_n[::-1]\n",
    "    return str_n == rev_str_n\n",
    "\n",
    "n = int(input(\"Enter a number\"))\n",
    "\n",
    "if palindrome(n):\n",
    "    print(\"This is a Palindrome number\")\n",
    "else:\n",
    "    print(\"This is not a Palindrome number\")\n"
   ]
  },
  {
   "cell_type": "code",
   "execution_count": 7,
   "id": "b2ba8c26-9860-4f4c-9aa7-0ffe55d6e561",
   "metadata": {},
   "outputs": [
    {
     "name": "stdout",
     "output_type": "stream",
     "text": [
      "\n",
      "1 \n",
      "1 2 \n",
      "1 2 3 \n",
      "1 2 3 4 \n",
      "1 2 3 4 5 \n"
     ]
    }
   ],
   "source": [
    "# 9. Print the following pattern\n",
    "#    Write a program to print the following number pattern using a loop.\n",
    "\n",
    "# \t1 \n",
    "# \t1 2 \n",
    "# \t1 2 3 \n",
    "# \t1 2 3 4 \n",
    "# \t1 2 3 4 5\n",
    "\n",
    "number = 5 \n",
    "\n",
    "for a in range(number + 1):\n",
    "    for b in range(1, a + 1):\n",
    "        print(b, end=\" \")\n",
    "    print(\"\")"
   ]
  },
  {
   "cell_type": "code",
   "execution_count": 9,
   "id": "ab0cc4bf-3682-49e2-92d9-8bd00ed50e20",
   "metadata": {},
   "outputs": [
    {
     "name": "stdin",
     "output_type": "stream",
     "text": [
      "Enter a number 100\n"
     ]
    },
    {
     "name": "stdout",
     "output_type": "stream",
     "text": [
      "5050\n"
     ]
    }
   ],
   "source": [
    "#10. Calculate the sum of all numbers from 1 to a given number , try 33,77,100.\n",
    "\n",
    "number = int(input(\"Enter a number\"))\n",
    "sum = 0\n",
    "for a in range(1, number + 1):\n",
    "    sum += a\n",
    "print(sum)"
   ]
  },
  {
   "cell_type": "code",
   "execution_count": 10,
   "id": "2c246273-a816-49f8-89ad-59571093dc4c",
   "metadata": {},
   "outputs": [
    {
     "name": "stdout",
     "output_type": "stream",
     "text": [
      "0\n",
      "1\n",
      "1\n",
      "2\n",
      "3\n",
      "5\n",
      "8\n",
      "13\n",
      "21\n",
      "34\n",
      "55\n",
      "89\n"
     ]
    }
   ],
   "source": [
    "# 11. Display Fibonacci series up to 10 terms\n",
    "#     \tThe Fibonacci Sequence is a series of numbers. The next number is found by adding up the two numbers \tbefore it.The first two numbers are 0 and 1.\n",
    "# \tFor example, 0, 1, 1, 2, 3, 5, 8, 13, 21. The next number in this series above is 13+21 = 34.\n",
    "\n",
    "n = 10\n",
    "n1, n2 = 0, 1\n",
    "number = 0\n",
    "\n",
    "print(n1)\n",
    "print(n2)\n",
    "\n",
    "while number < n:\n",
    "    N = n1 + n2\n",
    "    n1 = n2\n",
    "    n2 = N\n",
    "    number += 1\n",
    "    print(N)"
   ]
  },
  {
   "cell_type": "code",
   "execution_count": 11,
   "id": "966e54a5-837e-415d-9ee4-608c05da570c",
   "metadata": {},
   "outputs": [
    {
     "name": "stdout",
     "output_type": "stream",
     "text": [
      "\n",
      "* \n",
      "* * \n",
      "* * * \n",
      "* * * * \n",
      "* * * * * \n",
      "* * * * \n",
      "* * * \n",
      "* * \n",
      "* \n"
     ]
    }
   ],
   "source": [
    "# 12. Write a program to print the following start pattern using the for loop\n",
    "\n",
    "# * \n",
    "# * * \n",
    "# * * * \n",
    "# * * * * \n",
    "# * * * * * \n",
    "# * * * * \n",
    "# * * * \n",
    "# * * \n",
    "# *\n",
    "\n",
    "number = 4\n",
    "for a in range(number + 1):\n",
    "    for b in range(1, a+1):\n",
    "        print(\"*\", end=\" \")\n",
    "    print(\"\")\n",
    "\n",
    "for a in range(number + 1, 0, -1):\n",
    "    for b in range(1, a + 1):\n",
    "        print(\"*\", end=\" \")\n",
    "    print(\"\")"
   ]
  },
  {
   "cell_type": "code",
   "execution_count": 12,
   "id": "e90eed1b-89ac-4173-b377-aef555d85e1d",
   "metadata": {},
   "outputs": [
    {
     "name": "stdout",
     "output_type": "stream",
     "text": [
      "['My','name','is','Kelly']\n"
     ]
    }
   ],
   "source": [
    "# 13. Concatenate two lists index-wise\n",
    "# Given:\n",
    "\n",
    "# list1 = [\"M\", \"na\", \"i\", \"Ke\"]\n",
    "# list2 = [\"y\", \"me\", \"s\", \"lly\"]\n",
    "# Expected output:\n",
    "\n",
    "# ['My', 'name', 'is', 'Kelly']\n",
    "\n",
    "list1 = [\"M\", \"na\", \"i\", \"Ke\"]\n",
    "list2 = [\"y\", \"me\", \"s\", \"lly\"]\n",
    "a = list1[0] + list2[0]\n",
    "b = list1[1] + list2[1]\n",
    "c = list1[2] + list2[2]\n",
    "d = list1[3] + list2[3]\n",
    "print(f\"['{a}','{b}','{c}','{d}']\")\n",
    "\n",
    "#another method\n",
    "\n",
    "list1 = [\"M\", \"na\", \"i\", \"Ke\"]\n",
    "list2 = [\"y\", \"me\", \"s\", \"lly\"]\n",
    "\n",
    "list3 = [i+j for i,j in zip(list1, list2)]\n",
    "print(list3)\n",
    "\n",
    "#another one \n",
    "\n",
    "list3 = []\n",
    "a = list1[0] + list2[0]\n",
    "b = list1[1] + list2[1]\n",
    "c = list1[2] + list2[2]\n",
    "d = list1[3] + list2[3]\n",
    "list3.append(a)\n",
    "list3.append(b)\n",
    "list3.append(c)\n",
    "list3.append(d)\n",
    "print(list3)\n",
    "\n",
    "#another one\n",
    "\n",
    "list1 = [\"M\", \"na\", \"i\", \"Ke\"]\n",
    "list2 = [\"y\", \"me\", \"s\", \"lly\"]\n",
    "list3 = []\n",
    "\n",
    "for i in range(len(list1)):\n",
    "    list3.append(list1[i] + list2[i])\n",
    "\n",
    "print(list3)"
   ]
  },
  {
   "cell_type": "code",
   "execution_count": 13,
   "id": "baf31ecf-0e80-4468-9c0a-7b812b350b5e",
   "metadata": {},
   "outputs": [
    {
     "data": {
      "text/plain": [
       "80"
      ]
     },
     "execution_count": 13,
     "metadata": {},
     "output_type": "execute_result"
    }
   ],
   "source": [
    "# 14.Print the value of key ‘history’ from the below dict\n",
    "\n",
    "sampleDict = {\n",
    "    \"class\": {\n",
    "        \"student\": {\n",
    "            \"name\": \"Mike\",\n",
    "            \"marks\": {\n",
    "                \"physics\": 70,\n",
    "                \"history\": 80\n",
    "            }\n",
    "        }\n",
    "    }\n",
    "}\n",
    "\n",
    "sampleDict[\"class\"][\"student\"][\"marks\"][\"history\"]"
   ]
  },
  {
   "cell_type": "code",
   "execution_count": 14,
   "id": "8a31ebeb-c256-4d48-a010-1813a820d243",
   "metadata": {},
   "outputs": [
    {
     "name": "stdout",
     "output_type": "stream",
     "text": [
      "Area of Cuboid is 408\n",
      "Volume of Cuboid is 540\n"
     ]
    }
   ],
   "source": [
    "#Python Program function to find volume, surface area of a cuboid.length = 9, breadth = 6, height = 10\n",
    "\n",
    "l, b, h = 9, 6, 10\n",
    "\n",
    "area = 2*((l * b)+(b * h)+(h * l))\n",
    "volume = l * b * h\n",
    "\n",
    "print(f\"Area of Cuboid is {area}\")\n",
    "print(f\"Volume of Cuboid is {volume}\")\n",
    "\n",
    "#another method\n",
    "\n",
    "def cuboid_area(l, b, h):\n",
    "    area = 2*((l * b)+(b * h)+(h * l))\n",
    "    return area\n",
    "    \n",
    "def cuboid_volume(l,b,h):\n",
    "    volume = l * b * h\n",
    "    return volume\n",
    "\n",
    "l, b, h = 9, 6, 10\n",
    "\n",
    "print(\"Area of Cuboid is:\",cuboid_area(l, b, h))\n",
    "print(\"Volume of Cuboid is:\",cuboid_volume(l, b, h))\n"
   ]
  },
  {
   "cell_type": "code",
   "execution_count": null,
   "id": "b9632c0d-f9e6-4999-9e5e-49a1ff5c77db",
   "metadata": {},
   "outputs": [],
   "source": []
  }
 ],
 "metadata": {
  "kernelspec": {
   "display_name": "Python 3",
   "language": "python",
   "name": "python3"
  },
  "language_info": {
   "codemirror_mode": {
    "name": "ipython",
    "version": 3
   },
   "file_extension": ".py",
   "mimetype": "text/x-python",
   "name": "python",
   "nbconvert_exporter": "python",
   "pygments_lexer": "ipython3",
   "version": "3.6.13"
  }
 },
 "nbformat": 4,
 "nbformat_minor": 5
}
